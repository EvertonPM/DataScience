{
 "cells": [
  {
   "cell_type": "code",
   "execution_count": 1,
   "id": "e9e985d7",
   "metadata": {},
   "outputs": [
    {
     "data": {
      "text/plain": [
       "['Mobi', 'Uno', 'Bros']"
      ]
     },
     "execution_count": 1,
     "metadata": {},
     "output_type": "execute_result"
    }
   ],
   "source": [
    "lista=['Mobi','Uno','Effa','Bros']\n",
    "\n",
    "nova=[]\n",
    "\n",
    "for item in lista:\n",
    "    if 'o' in item:\n",
    "        nova.append(item)\n",
    "nova"
   ]
  },
  {
   "cell_type": "code",
   "execution_count": 2,
   "id": "5c27a610",
   "metadata": {},
   "outputs": [],
   "source": [
    "comp=[item for item in lista if 'o' in item]"
   ]
  },
  {
   "cell_type": "code",
   "execution_count": 3,
   "id": "c50d9a25",
   "metadata": {},
   "outputs": [
    {
     "data": {
      "text/plain": [
       "['Mobi', 'Uno', 'Bros']"
      ]
     },
     "execution_count": 3,
     "metadata": {},
     "output_type": "execute_result"
    }
   ],
   "source": [
    "comp"
   ]
  },
  {
   "cell_type": "code",
   "execution_count": 7,
   "id": "4381dc48",
   "metadata": {},
   "outputs": [],
   "source": [
    "alunos={'Bob':68,'Michel':84,'Zico':57,'Ana':93}"
   ]
  },
  {
   "cell_type": "code",
   "execution_count": 8,
   "id": "c0f7ea4b",
   "metadata": {},
   "outputs": [
    {
     "data": {
      "text/plain": [
       "{'Bob': 68, 'Michel': 84, 'Zico': 57, 'Ana': 93}"
      ]
     },
     "execution_count": 8,
     "metadata": {},
     "output_type": "execute_result"
    }
   ],
   "source": [
    "alunos"
   ]
  },
  {
   "cell_type": "code",
   "execution_count": 11,
   "id": "785c053e",
   "metadata": {},
   "outputs": [
    {
     "data": {
      "text/plain": [
       "{'Bob': 'Reprovado',\n",
       " 'Michel': 'Aprovado',\n",
       " 'Zico': 'Reprovado',\n",
       " 'Ana': 'Aprovado'}"
      ]
     },
     "execution_count": 11,
     "metadata": {},
     "output_type": "execute_result"
    }
   ],
   "source": [
    "status = {k:('Aprovado' if v >= 70 else 'Reprovado') for (k,v) in alunos.items()}\n",
    "status"
   ]
  },
  {
   "cell_type": "code",
   "execution_count": null,
   "id": "394fef65",
   "metadata": {},
   "outputs": [],
   "source": []
  },
  {
   "cell_type": "code",
   "execution_count": null,
   "id": "4bde26e7",
   "metadata": {},
   "outputs": [],
   "source": []
  }
 ],
 "metadata": {
  "kernelspec": {
   "display_name": "Python 3 (ipykernel)",
   "language": "python",
   "name": "python3"
  },
  "language_info": {
   "codemirror_mode": {
    "name": "ipython",
    "version": 3
   },
   "file_extension": ".py",
   "mimetype": "text/x-python",
   "name": "python",
   "nbconvert_exporter": "python",
   "pygments_lexer": "ipython3",
   "version": "3.9.13"
  }
 },
 "nbformat": 4,
 "nbformat_minor": 5
}
