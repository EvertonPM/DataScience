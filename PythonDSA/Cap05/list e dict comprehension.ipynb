{
 "cells": [
  {
   "cell_type": "code",
   "execution_count": 1,
   "id": "91c7eba7",
   "metadata": {},
   "outputs": [
    {
     "data": {
      "text/plain": [
       "['Mobi', 'Uno', 'Bros']"
      ]
     },
     "execution_count": 1,
     "metadata": {},
     "output_type": "execute_result"
    }
   ],
   "source": [
    "lista=['Mobi','Uno','Effa','Bros']\n",
    "\n",
    "nova=[]\n",
    "\n",
    "for item in lista:\n",
    "    if 'o' in item:\n",
    "        nova.append(item)\n",
    "nova"
   ]
  },
  {
   "cell_type": "code",
   "execution_count": 2,
   "id": "61e08657",
   "metadata": {},
   "outputs": [],
   "source": [
    "comp=[item for item in lista if 'o' in item]"
   ]
  },
  {
   "cell_type": "code",
   "execution_count": 3,
   "id": "3da15b11",
   "metadata": {},
   "outputs": [
    {
     "data": {
      "text/plain": [
       "['Mobi', 'Uno', 'Bros']"
      ]
     },
     "execution_count": 3,
     "metadata": {},
     "output_type": "execute_result"
    }
   ],
   "source": [
    "comp"
   ]
  },
  {
   "cell_type": "code",
   "execution_count": 7,
   "id": "6ff8ec45",
   "metadata": {},
   "outputs": [],
   "source": [
    "alunos={'Bob':68,'Michel':84,'Zico':57,'Ana':93}"
   ]
  },
  {
   "cell_type": "code",
   "execution_count": 8,
   "id": "fb53980c",
   "metadata": {},
   "outputs": [
    {
     "data": {
      "text/plain": [
       "{'Bob': 68, 'Michel': 84, 'Zico': 57, 'Ana': 93}"
      ]
     },
     "execution_count": 8,
     "metadata": {},
     "output_type": "execute_result"
    }
   ],
   "source": [
    "alunos"
   ]
  },
  {
   "cell_type": "code",
   "execution_count": 11,
   "id": "a50ca5c1",
   "metadata": {},
   "outputs": [
    {
     "data": {
      "text/plain": [
       "{'Bob': 'Reprovado',\n",
       " 'Michel': 'Aprovado',\n",
       " 'Zico': 'Reprovado',\n",
       " 'Ana': 'Aprovado'}"
      ]
     },
     "execution_count": 11,
     "metadata": {},
     "output_type": "execute_result"
    }
   ],
   "source": [
    "status = {k:('Aprovado' if v >= 70 else 'Reprovado') for (k,v) in alunos.items()}\n",
    "status"
   ]
  },
  {
   "cell_type": "code",
   "execution_count": 12,
   "id": "aafb7e59",
   "metadata": {},
   "outputs": [
    {
     "name": "stdout",
     "output_type": "stream",
     "text": [
      "{'Bob': 'Reprovado', 'Michel': 'Aprovado', 'Zico': 'Reprovado', 'Ana': 'Aprovado'}\n"
     ]
    }
   ],
   "source": [
    "print(status)"
   ]
  },
  {
   "cell_type": "code",
   "execution_count": null,
   "id": "0511b4f8",
   "metadata": {},
   "outputs": [],
   "source": []
  }
 ],
 "metadata": {
  "kernelspec": {
   "display_name": "Python 3 (ipykernel)",
   "language": "python",
   "name": "python3"
  },
  "language_info": {
   "codemirror_mode": {
    "name": "ipython",
    "version": 3
   },
   "file_extension": ".py",
   "mimetype": "text/x-python",
   "name": "python",
   "nbconvert_exporter": "python",
   "pygments_lexer": "ipython3",
   "version": "3.10.12"
  }
 },
 "nbformat": 4,
 "nbformat_minor": 5
}
